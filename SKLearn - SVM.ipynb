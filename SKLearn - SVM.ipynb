{
 "cells": [
  {
   "cell_type": "code",
   "execution_count": 4,
   "metadata": {},
   "outputs": [
    {
     "name": "stdout",
     "output_type": "stream",
     "text": [
      "(212, 30) (357, 30)\n",
      "0.9107981220657277 0.951048951048951\n"
     ]
    }
   ],
   "source": [
    "from sklearn.svm import SVC\n",
    "from sklearn.model_selection import train_test_split\n",
    "from sklearn.datasets import load_breast_cancer\n",
    "\n",
    "cancer = load_breast_cancer()\n",
    "\n",
    "malignant = cancer.data[cancer.target==0] # 음성 37%\n",
    "benign = cancer.data[cancer.target==1] # 양성 63%\n",
    "\n",
    "print(malignant.shape, benign.shape)\n",
    "\n",
    "X_train, X_test, y_train, y_test = train_test_split(cancer.data, cancer.target)\n",
    "\n",
    "model = SVC()\n",
    "model.fit(X_train, y_train)\n",
    "\n",
    "train_score = model.score(X_train, y_train)\n",
    "test_score = model.score(X_test, y_test)\n",
    "\n",
    "print(train_score, test_score)"
   ]
  },
  {
   "cell_type": "code",
   "execution_count": 5,
   "metadata": {},
   "outputs": [],
   "source": [
    "X_max = X_train.max(axis=0)\n",
    "X_min = X_train.min(axis=0)\n",
    "X_train_uni = (X_train - X_min) / (X_max - X_min)\n",
    "X_test_uni = (X_test - X_min) / (X_max - X_min)"
   ]
  },
  {
   "cell_type": "code",
   "execution_count": 6,
   "metadata": {},
   "outputs": [],
   "source": [
    "X_mean = X_train.mean(axis=0)\n",
    "X_std = X_train.std(axis=0)\n",
    "X_train_norm = (X_train - X_mean) / X_std\n",
    "X_test_norm = (X_test-X_mean) / X_std"
   ]
  },
  {
   "cell_type": "code",
   "execution_count": 8,
   "metadata": {},
   "outputs": [
    {
     "name": "stdout",
     "output_type": "stream",
     "text": [
      "0.9835680751173709 0.986013986013986\n",
      "0.9859154929577465 0.9790209790209791\n"
     ]
    }
   ],
   "source": [
    "model = SVC()\n",
    "model.fit(X_train_uni, y_train)\n",
    "train_score = model.score(X_train_uni, y_train)\n",
    "test_score = model.score(X_test_uni, y_test)\n",
    "print(train_score, test_score)\n",
    "model = SVC()\n",
    "model.fit(X_train_norm, y_train)\n",
    "train_score = model.score(X_train_norm, y_train)\n",
    "test_score = model.score(X_test_norm, y_test)\n",
    "print(train_score, test_score)"
   ]
  },
  {
   "cell_type": "code",
   "execution_count": null,
   "metadata": {},
   "outputs": [],
   "source": []
  }
 ],
 "metadata": {
  "kernelspec": {
   "display_name": "Python 3",
   "language": "python",
   "name": "python3"
  },
  "language_info": {
   "codemirror_mode": {
    "name": "ipython",
    "version": 3
   },
   "file_extension": ".py",
   "mimetype": "text/x-python",
   "name": "python",
   "nbconvert_exporter": "python",
   "pygments_lexer": "ipython3",
   "version": "3.7.6"
  }
 },
 "nbformat": 4,
 "nbformat_minor": 4
}
