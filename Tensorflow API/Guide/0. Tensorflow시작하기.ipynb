{
 "cells": [
  {
   "cell_type": "markdown",
   "metadata": {},
   "source": [
    "# Tensorflow 2.0\n",
    "\n",
    " - 파이썬과 텐서플로 코드를 자유롭게 섞어 쓸 수 있기 때문에 파이썬의 장점을 최대한 활용할 수 있습니다\n",
    " - 텐서플로는 파이썬 인터프리터가 없는 모바일, C++, 자바스크립트 같은 환경에서도 실행됩니다. \n",
    " - 사용자가 환경에 따라 코드를 재작성하지 않도록 @tf.function를 추가하면 오토그래프(AutoGraph)가 파이썬 코드를 동일한 텐서플로 코드로 변경합니다.\n",
    "\n",
    "## 권장사항\n",
    "1. 모든 함수에 tf.function 데코레이터를 적용할 필요는 없습니다. 모델 훈련의 한 단계(step)나 정방향 연산(forward pass) 같은 고수준 연산에만 tf.function 데코레이터를 적용하세요."
   ]
  },
  {
   "cell_type": "markdown",
   "metadata": {},
   "source": [
    "2. 케라스 층과 모델을 사용해 변수를 관리하세요."
   ]
  },
  {
   "cell_type": "code",
   "execution_count": 1,
   "metadata": {},
   "outputs": [
    {
     "ename": "SyntaxError",
     "evalue": "invalid syntax (<ipython-input-1-a232b1fff604>, line 5)",
     "output_type": "error",
     "traceback": [
      "\u001b[1;36m  File \u001b[1;32m\"<ipython-input-1-a232b1fff604>\"\u001b[1;36m, line \u001b[1;32m5\u001b[0m\n\u001b[1;33m    def multilayer_perceptron(x, w0, b0, w1, b1, w2, b2 ...):\u001b[0m\n\u001b[1;37m                                                          ^\u001b[0m\n\u001b[1;31mSyntaxError\u001b[0m\u001b[1;31m:\u001b[0m invalid syntax\n"
     ]
    }
   ],
   "source": [
    "# 기본버전\n",
    "def dense(x, W, b):\n",
    "  return tf.nn.sigmoid(tf.matmul(x, W) + b)\n",
    "\n",
    "@tf.function\n",
    "def multilayer_perceptron(x, w0, b0, w1, b1, w2, b2 ...):\n",
    "  x = dense(x, w0, b0)\n",
    "  x = dense(x, w1, b1)\n",
    "  x = dense(x, w2, b2)\n",
    "  ...\n",
    "\n",
    "# 여전히 w_i, b_i 변수를 직접 관리해야 합니다. 이 코드와 떨어져서 크기가 정의됩니다."
   ]
  },
  {
   "cell_type": "code",
   "execution_count": 2,
   "metadata": {},
   "outputs": [],
   "source": [
    "# 케라스 버전\n",
    "# 각 층은 linear(x)처럼 호출 가능합니다.\n",
    "layers = [tf.keras.layers.Dense(hidden_size, activation=tf.nn.sigmoid) for _ in range(n)]\n",
    "perceptron = tf.keras.Sequential(layers)\n",
    "\n",
    "# layers[3].trainable_variables => returns [w3, b3]\n",
    "# perceptron.trainable_variables => returns [w0, b0, ...]"
   ]
  },
  {
   "cell_type": "code",
   "execution_count": null,
   "metadata": {},
   "outputs": [],
   "source": []
  }
 ],
 "metadata": {
  "kernelspec": {
   "display_name": "Python 3",
   "language": "python",
   "name": "python3"
  },
  "language_info": {
   "codemirror_mode": {
    "name": "ipython",
    "version": 3
   },
   "file_extension": ".py",
   "mimetype": "text/x-python",
   "name": "python",
   "nbconvert_exporter": "python",
   "pygments_lexer": "ipython3",
   "version": "3.7.6"
  }
 },
 "nbformat": 4,
 "nbformat_minor": 4
}
