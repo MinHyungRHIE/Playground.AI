{
 "cells": [
  {
   "cell_type": "markdown",
   "metadata": {},
   "source": [
    "# Tensorflow 그래픽 연산 추가하기\n",
    "\n",
    "##  GPU 지원하는 Tensorflow 2.1\n",
    "\n",
    "https://storage.googleapis.com/tensorflow/windows/gpu/tensorflow_gpu-2.1.0-cp37-cp37m-win_amd64.whl\n",
    "\n",
    "```\n",
    "pip install (위 경로)\n",
    "```\n",
    "\n",
    "\n",
    "## window 10 64bit\n",
    "\n",
    "[NVIDIA® GPU 드라이버 - CUDA 10.1에는 418.x 이상이 필요합니다.](https://www.nvidia.com/download/index.aspx?lang=en-us#)\n",
    "\n",
    "[CUDA® Toolkit - TensorFlow는 CUDA 10.1을 지원합니다(TensorFlow 2.1.0 이상).](https://developer.nvidia.com/cuda-toolkit-archive)\n",
    "\n",
    "[CUPTI는 CUDA Toolkit과 함께 제공됩니다.](https://docs.nvidia.com/cuda/cupti/)\n",
    "\n",
    "[cuDNN SDK(7.6 이상)](https://developer.nvidia.com/cudnn)\n",
    "\n",
    "[(선택사항) TensorRT 6.0 - 일부 모델에서 추론 처리량과 지연 시간을 향상합니다.](https://docs.nvidia.com/deeplearning/tensorrt/install-guide/index.html)"
   ]
  },
  {
   "cell_type": "markdown",
   "metadata": {},
   "source": [
    "## Tensorflow가 GPU를 사용하는지 확인하기\n",
    "\n",
    "1. DirectX 진단도구로 일단 NVIDIA Graphics Card인지 확인하기\n",
    " - dxdiag 실행\n",
    " \n",
    "2. C:\\Program Files\\NVIDIA GPU Computing Toolkit\\CUDA\\v10.1 안에 cuDNN 파일로 덮어쓰기\n",
    "\n",
    "3. 환경변수 설정\n",
    " - C:\\Program Files\\NVIDIA GPU Computing Toolkit\\CUDA\\v10.1\n",
    " - C:\\Program Files\\NVIDIA GPU Computing Toolkit\\CUDA\\v10.1\\bin\n",
    " - C:\\Program Files\\NVIDIA GPU Computing Toolkit\\CUDA\\v10.1\\libnvvp\n",
    "   - 자동으로 환경설정이 됨\n"
   ]
  },
  {
   "cell_type": "code",
   "execution_count": 1,
   "metadata": {},
   "outputs": [
    {
     "data": {
      "text/plain": [
       "[name: \"/device:CPU:0\"\n",
       " device_type: \"CPU\"\n",
       " memory_limit: 268435456\n",
       " locality {\n",
       " }\n",
       " incarnation: 13283773700643035671]"
      ]
     },
     "execution_count": 1,
     "metadata": {},
     "output_type": "execute_result"
    }
   ],
   "source": [
    "from tensorflow.python.client import device_lib\n",
    "device_lib.list_local_devices()"
   ]
  },
  {
   "cell_type": "code",
   "execution_count": null,
   "metadata": {},
   "outputs": [],
   "source": []
  }
 ],
 "metadata": {
  "kernelspec": {
   "display_name": "Python 3",
   "language": "python",
   "name": "python3"
  },
  "language_info": {
   "codemirror_mode": {
    "name": "ipython",
    "version": 3
   },
   "file_extension": ".py",
   "mimetype": "text/x-python",
   "name": "python",
   "nbconvert_exporter": "python",
   "pygments_lexer": "ipython3",
   "version": "3.7.6"
  }
 },
 "nbformat": 4,
 "nbformat_minor": 4
}
