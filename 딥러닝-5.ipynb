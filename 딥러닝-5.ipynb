{
 "cells": [
  {
   "cell_type": "markdown",
   "metadata": {},
   "source": [
    "# 합성곱 연산과 이미지 필터\n",
    "\n",
    "## 아날로그 신호처리\n",
    " - 선형 시불변 시스템(Linear Time Invariant System; LTI System)\n",
    " - LTI 시스템은 선형적이고 시간에 영향받지 않은 신호처리 시스템을 말한다\n",
    " \n",
    "## Dirac 델타 함수\n",
    " - t = 0을 제외한 모든 위치에서 출력이 0\n",
    " - 모든 구간에서 적분한 값이 1\n",
    "\n",
    "## 임펄스 응답\n",
    " - LTI 시스템에 임펄스(Dirac 델타 함수)를 입력했을 때으 ㅣ출력을 임펄스 응답이라고 한다.\n",
    " - 임펄스 응답을 필터(Filter)라고하며 LTI 시스템 동작을 완벽하게 표현한다.\n",
    " \n",
    "## 합성곱 연산 Convolution\n",
    " - 두 함수를 합성하는 합성곱 연산\n",
    " - 한 함수를 뒤집고 이동하면서, 두 함수의 곱을 적분하여 계산\n",
    " - LTI 시스템은 입력 신호에 임펄스 응답을 합성곱한 결과와 같다.\n",
    "\n",
    "### 이차원 신호\n",
    " - 흑백이미지 : 흑백 영상은 각 픽셀이 0~1사이의 실수로 된 2-D signal로 표현할 수 있다\n",
    " - 컬러이미지 : 컬러 영상은 RGB 3채널로 구성된 2D signal로 표현할 수 있다.\n",
    "\n",
    "### 영상의 합성곱 계산\n",
    " - 2-D 디지털 신호의 합성곱은 필터를 한칸씩 옮기면서 영상과 겹치는 부분을 모두 곱해 합치면 된다.\n",
    "\n",
    "### 잡음 제거 필터\n",
    " - 2-D Gaussian Filter를 적용하면 흐려진 영상을 얻을 수 있다. 영상이 흐려진 대신, 잡음을 제거하는 특성이 있다.\n",
    "\n",
    "### 미분 필터\n",
    " - Sobel Filter를 적용하면 특정 방향으로 미분한 영상을 얻을 수 있다. 해당 방향의 Edge성분을 추출하는 특성이 있다."
   ]
  },
  {
   "cell_type": "markdown",
   "metadata": {},
   "source": [
    "## 곱에서 합성곱으로\n",
    " - 입력 --- 필터 가중치(Filter Weights) --- 시그마(b) --- 활성함수(Activation Function) \n",
    "\n",
    "## 합성곱 계층의 의미\n",
    " - 여러 채널에서 특별한 '특징'이 나타나는 위치를 찾아내는 것이 합성곱 계층의 임무\n",
    " \n",
    "##  합성곱 신경망의 기본 구조\n",
    "- [고양이 사진] ---> (합성곱 계층 + 풀링 계층 + 활성 함수)x N번 반복 ---> 펑탄화 + 전결합 계층 + 전결합 계층 ---> 분류 결과 [0, 0, 0, 1, 0, 0]\n",
    "\n",
    "- 합성곱 계층에서의 영상의 크기는 그대로이며, 영상의 채널 수가 달라진다.\n",
    "- 합성곱 계층에 의해서 추출된 결과는 공간적 특징이 있으며 '특징 맵(Feature Map)'이라고 한다\n",
    "\n",
    "### 풀링 계층 Pooling Layer\n",
    " - 영상의 크기를 줄어준다.\n",
    " - 풀링 계층은 여러 화소를 종합하여 하나의 화소로 변환하는 계층이다.\n",
    " - 풀링 계층을 통과하면 영상의 크기가 줄어들고, 정보가 종합된다.\n",
    " \n",
    "#### Max Pooling : 최대값\n",
    " - Classification에서 잘 먹힘\n",
    "\n",
    "#### Average Pooing : 평균값\n",
    "\n",
    "### 평탄화 Flatten\n",
    " - 입력된 특징 맵의 모든 화소를 나열하여 하나의 벡터로 만드는 것을 평탄화라고 한다.\n",
    " - 아무 연산도 일어나지 않으며, 합성곱 계층과 전결합 계층을 연결하는 역할을 한다.\n",
    " \n",
    "### 전결합 계층\n",
    "\n",
    "### Softmax 함수"
   ]
  },
  {
   "cell_type": "markdown",
   "metadata": {},
   "source": [
    "## 왜 pooling을 하는 것인가\n",
    "\n",
    "### Receptive Field\n",
    " - 같은 크기의 필터여도, 풀링에 의해 작아진 특징 맵에 적용되면 원본영상에서 차지하는 범위가 넓다. 이 범위를 Receptive Field라고 한다.\n",
    " \n",
    "### LeNet - 5\n",
    " - 98년도로, 상당히 이른 시기에 CNN의 기본적인 구조를 잘 정립했다.\n",
    " \n",
    "### VGG-16\n",
    " - 2014년도 ILSVRC에서 Top-5 정확도 92.7%를 기록한 VGG-16 네트워크 "
   ]
  },
  {
   "cell_type": "markdown",
   "metadata": {},
   "source": [
    "##### 잠깐 용어 정리\n",
    " - Scalar : 단일 숫자\n",
    " - Vector : 일렬\n",
    " - Matrix : 2X2\n",
    " - Tensor : 3차원 이상"
   ]
  },
  {
   "cell_type": "markdown",
   "metadata": {},
   "source": [
    "### Padding의 필요성\n",
    " - 합성곱 연산시, 필터(커널)의 크기에 따라 영상의 크기가 줄어드는 문제가 있다.\n",
    " - 그래서 크기가 (2N+1)인 커널에 대해, 상하좌우에 N개의 Zero-Padding을 해주면 된다.\n",
    "\n",
    "#### Pooling 대신 stride\n",
    " - 하나씩 건너뛰면서 연산\n",
    " - 합성곱 연산에서 커널을 이동시키는 거리를 Stride라고 하며, 이를 크게하면 출력의 크기가 줄어든다.\n",
    "\n",
    "### 특징맵\n",
    " - 특징 부분이 밝음\n",
    " - CNN으로 추출한 특징 맵(비지도 학습)으로 계층적으로 학습하는 모습을 확인할 수 있다.\n",
    " - 작은 개념에서 큰 개념으로, 처음에는 눈, 코, 입 ==> 나중에는 얼굴 전체를 인식"
   ]
  },
  {
   "cell_type": "markdown",
   "metadata": {},
   "source": [
    "## 배치 정규화\n",
    "\n",
    "### 일반 경사 하강법 Vanilla Gradient Descent\n",
    " - 일반 경사 하강법의 경우, Gradient를 한번 업데이트 하기 위해 모든 학습 데이터를 사용한다.\n",
    "\n",
    "### 확률적 경사 하강법 Stochastic Gradient Descent\n",
    " - 엄청 많은 N개의 학습 샘플\n",
    " - 데이터 선택, Batch size개의 Gradient 평균"
   ]
  },
  {
   "cell_type": "code",
   "execution_count": null,
   "metadata": {},
   "outputs": [],
   "source": []
  }
 ],
 "metadata": {
  "kernelspec": {
   "display_name": "Python 3",
   "language": "python",
   "name": "python3"
  },
  "language_info": {
   "codemirror_mode": {
    "name": "ipython",
    "version": 3
   },
   "file_extension": ".py",
   "mimetype": "text/x-python",
   "name": "python",
   "nbconvert_exporter": "python",
   "pygments_lexer": "ipython3",
   "version": "3.7.6"
  }
 },
 "nbformat": 4,
 "nbformat_minor": 4
}
