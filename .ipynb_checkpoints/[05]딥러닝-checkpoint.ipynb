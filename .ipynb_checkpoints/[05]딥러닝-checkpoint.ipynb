{
 "cells": [
  {
   "cell_type": "markdown",
   "metadata": {},
   "source": [
    "# 딥러닝 이해\n",
    " - 인공지능 : 기계가 사람의 행동을 모방하게 하는 기술\n",
    " - 기계학습 : 기계가 일일이 코드로 명시하지 않은 동작을 데이터로부터 학습하여 실행할 수 있도록 하는 알고리즘을 개발하는 연구 분야\n",
    " - 딥러닝 : 기계 학습의 한 분야인 인공신경망에 기반하여, 많은 양의 데이터를 학습해 뛰어난 성능을 이끌어내는 연구 분야\n",
    " \n",
    "# 기계학습 vs 딥러닝\n",
    "#### (고양이, 개) - 특징 추출기 - 특징 벡터 - 분류기 - (결과)\n",
    "#### (고양이, 개) - 특징 추출기 & 분류기 - (결과)\n",
    "  - 기존에는 분류기만 학습하기 때문에 한계가 있음\n",
    "  - 그러나 딥러닝은 특징 추출기까지 확장되어 좋음\n",
    "  \n",
    "# 딥러닝으로 할 수 있는 것\n",
    "  - 분류(Classification), 회귀(Regression), 물체 검출(Object Detection), 영상 분할(Image Segmentation), 영상 초해상도(Image Super Resolution), 예술적 창조물(Artistic Creation with GAN), 강화 학습(Reinforcement Learning)\n",
    "  \n",
    "# 딥러닝 구성 요소\n",
    "### 학습 단계(Training Phase)\n",
    "  1. 학습 데이터 셋(Training Dataset) : 학습 입력(Training Input) + 학습 정답(Training Groundtruth)\n",
    "  2. 네트워크 구조(Network Architecture)\n",
    "  3. 손실 함수(Loss Function)\n",
    "  4. 알고리즘 최적화 기법(Algorithm Optimizer)\n",
    "  .[다시 2로 돌아가서 반복]\n",
    "\n",
    "### 테스트 단계(Test Phase)\n",
    "  1. 테스트 입력(Test Input)\n",
    "  2. 학습된 네트워크(Trained Network)\n",
    "  3. 평가 지표(Evaluation Metric)\n",
    "\n",
    "# 딥러닝의 역사\n",
    " 1. 1943 : Eletronic Brain\n",
    " 2. 1957 : Perceptron\n",
    " 3. 1960 : ADALINE\n",
    " 4. 1969 : XOR Problem\n",
    "   - 1960 ~ 1969 : Golden Age\n",
    "   - 1969 ~ 1986 : Dark Age(\"AI Winter\")\n",
    " 5. 1986 : Multi-layered Perceptron(Backpropagation)\n",
    " 6. 1995 : SVM\n",
    " 7. 2006 : Deep Neural Network(Pretraining)\n",
    " \n",
    "# 딥러닝의 대중화 - Framework\n",
    " - 초창기\n",
    "  - Caffe2 : C++와 리눅스 기반\n",
    "  - MatConvNet : 윈도우, MATLAB 환경에 익숙한 연구원 대상\n",
    " - 최근\n",
    "  - TensorFlow와 Pytorch\n",
    " - 클라우드 플랫폼 3강 구도\n",
    "  - AWS, GCP(Google Cloud Platform), Microsoft Azure\n",
    " - HW\n",
    "  - GTX 시리즈는 게이밍 용이지만, 딥러닝 연구에서 최고의 가성비를 내면서 연구의 대중화를 이끔\n",
    " - IaaS : 하드웨어만 제공 받음\n",
    " - PaaS : Pytorch 등만 깔아서\n",
    " - SaaS : 다 깔려 있음"
   ]
  },
  {
   "cell_type": "code",
   "execution_count": 2,
   "metadata": {},
   "outputs": [],
   "source": [
    "import tensorflow as tf"
   ]
  },
  {
   "cell_type": "code",
   "execution_count": 5,
   "metadata": {},
   "outputs": [],
   "source": [
    "# 네트워크 구조 정의\n",
    "class MyModel(tf.keras.Model):\n",
    "    def __init__(self):\n",
    "        super(MyModel, self).__init__()\n",
    "        self.flatten = tf.keras.layers.Flatten(input_shape=(28, 28))\n",
    "        self.d1 = tf.keras.layers.Dense(128, activation='sigmoid')\n",
    "        self.d2 = tf.keras.layers.Dense(10, activation='softmax')\n",
    "\n",
    "    def call(self, x):\n",
    "        x = self.flatten(x)\n",
    "        x = self.d1(x)\n",
    "        return self.d2(x)"
   ]
  },
  {
   "cell_type": "code",
   "execution_count": 6,
   "metadata": {},
   "outputs": [],
   "source": [
    "# 학습 루프 정의\n",
    "@tf.function\n",
    "def train_step(model, images, labels, loss_object, optimizer, train_loss, train_accuracy):\n",
    "    with tf.GradientTape() as tape:\n",
    "        predictions = model(images)\n",
    "        loss = loss_object(labels, predictions)\n",
    "    gradients = tape.gradient(loss, model, trainable_variables)\n",
    "    \n",
    "    optimizer.apply_gradients(zip(gradients, model.trainable_variables))\n",
    "    train_loss(loss)\n",
    "    train_accuracy(labels, predictions)"
   ]
  },
  {
   "cell_type": "code",
   "execution_count": 7,
   "metadata": {},
   "outputs": [],
   "source": [
    "# 테스트 루프 정의\n",
    "@tf.function\n",
    "def test_step(model, images, labels, loss_object, test_loss, test_accuracy):\n",
    "    predictions = model(images)\n",
    "    \n",
    "    t_loss = loss_object(labels, predictions)\n",
    "    test_loss(t_loss)\n",
    "    test_accuracy(labels, predictions)"
   ]
  },
  {
   "cell_type": "code",
   "execution_count": 9,
   "metadata": {},
   "outputs": [],
   "source": [
    "# 데이터셋 가져오고, 정리하는\n",
    "mnist = tf.keras.datasets.mnist\n",
    "(x_train, y_train),(x_test, y_test) = mnist.load_data()\n",
    "x_train, x_test = x_train / 255.0, x_test / 255.0\n",
    "\n",
    "x_train = x_train[..., tf.newaxis]\n",
    "x_test = x_test[..., tf.newaxis]\n",
    "\n",
    "train_ds = tf.data.Dataset.from_tensor_slices((x_train, y_train)).shuffle(10000).batch(32)\n",
    "test_ds = tf.data.Dataset.from_tensor_slices((x_test, y_test)).batch(32)"
   ]
  },
  {
   "cell_type": "code",
   "execution_count": 11,
   "metadata": {},
   "outputs": [],
   "source": [
    "# 모델 생성, 네트워크 생성\n",
    "model = MyModel()"
   ]
  },
  {
   "cell_type": "code",
   "execution_count": 13,
   "metadata": {},
   "outputs": [],
   "source": [
    "# 손실함수, 최적화 알고리즘 정의\n",
    "loss_object = tf.keras.losses.SparseCategoricalCrossentropy()\n",
    "optimizer = tf.keras.optimizers.Adam()"
   ]
  },
  {
   "cell_type": "code",
   "execution_count": 16,
   "metadata": {},
   "outputs": [],
   "source": [
    "# 알고리즘 평가지표 설정\n",
    "train_loss = tf.keras.metrics.Mean(name='train_loss')\n",
    "train_accuracy = tf.keras.metrics.SparseCategoricalAccuracy(name='train_accuracy')\n",
    "\n",
    "test_loss = tf.keras.metrics.Mean(name='test_loss')\n",
    "test_accuracy = tf.keras.metrics.SparseCategoricalAccuracy(name='test_accuracy')"
   ]
  },
  {
   "cell_type": "code",
   "execution_count": null,
   "metadata": {},
   "outputs": [],
   "source": [
    "# 알고리즘 학습, 테스트\n",
    "for epoch in range(1):\n",
    "    for images, labels in train_ds:\n",
    "        train_step(model, images, labels, loss_object, optimizer, train_loss, train_accuracy)\n",
    "    \n",
    "    for test_images, test_labels in test_ds:\n",
    "        test_step(model, test_images, test_labels, loss_object, test_loss, test_accuracy)\n",
    "        \n",
    "    template = 'Epoch {}, Loss: {}, Accuracy: {|, Test Loss: {}, Test Accuracy {}'\n",
    "    print(template.format(1,\n",
    "                         train_loss.result(),\n",
    "                         train_accuracy.result() * 100,\n",
    "                         test_loss.result(),\n",
    "                         test_accuracy.result() * 100))"
   ]
  }
 ],
 "metadata": {
  "kernelspec": {
   "display_name": "Python 3",
   "language": "python",
   "name": "python3"
  },
  "language_info": {
   "codemirror_mode": {
    "name": "ipython",
    "version": 3
   },
   "file_extension": ".py",
   "mimetype": "text/x-python",
   "name": "python",
   "nbconvert_exporter": "python",
   "pygments_lexer": "ipython3",
   "version": "3.7.6"
  }
 },
 "nbformat": 4,
 "nbformat_minor": 4
}
