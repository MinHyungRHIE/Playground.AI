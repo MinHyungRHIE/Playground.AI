{
 "cells": [
  {
   "cell_type": "markdown",
   "metadata": {},
   "source": [
    "# Attention 기법\n",
    "\n",
    "## Seq2seq 모델은 번역 문제를 학습하기 위해 널리 사용되고 있는 RNN 구조이다.\n",
    " - Sequence-to-sequence model\n",
    " \n",
    "### 단어분리 --> Tokenizer --> Embedding\n",
    "\n",
    "### gradient vanishing\n",
    " - Encoder hidden state를 모아서 Decoder로 각각 전달하면 기울기 소실을 해결할 수 있다.\n",
    " - Attention!!!!"
   ]
  },
  {
   "cell_type": "markdown",
   "metadata": {},
   "source": [
    "## Attention Mechanism\n",
    " - Q에 대해 어떤 K가 유샇나지 비교하고, 유사도를 반영하여 V들을 합성한 것이 Attention value이다."
   ]
  },
  {
   "cell_type": "code",
   "execution_count": null,
   "metadata": {},
   "outputs": [],
   "source": []
  },
  {
   "cell_type": "markdown",
   "metadata": {},
   "source": [
    "##### MSE + decay : W\n",
    " - Weight가 지나치게 커져서 decision boundary가 '복잡해 지는 것'을 막는다고 봄\n"
   ]
  },
  {
   "cell_type": "markdown",
   "metadata": {},
   "source": [
    "## 배치 정규화의 한계\n",
    " - Mini-batch에 의해 크게 영향을 받는다.\n",
    "   - 배치의 크기가 너무 작으면 잘 동작하지 않는다.\n",
    "      - 메모리의 한계로 인해 RNN이나 크기가 큰 CNN에 적용하기 어렵다\n",
    "   - 배치의 크기가 너무 커도 잘 동작하지 않는다.\n",
    "      - 병렬화 연산 효율이 떨어진다.\n",
    "\n",
    "## 가중치 정규화 Weight Normalization\n",
    "  - 학습시 자유도가 개선되어 최적화가 더 쉽게 이루어짐\n",
    "  - 학습 시 CNN에서 배치 정규화 대비 연산량이 매우 감소(Feature에 적용 vs Weight에 적용)\n",
    "\n",
    "## 계층 정규화 Layer Normalization\n",
    "  - 배치의 크기에 영향을 받지 않으며, RNN에서도 잘 동작함\n",
    "\n",
    "\n",
    "## SELU : Scaled Exponential Linear Unit\n",
    "  - ReLU와 달리, 음수 값을 Exponential하게 활성화하는 특징이 있다."
   ]
  },
  {
   "cell_type": "code",
   "execution_count": null,
   "metadata": {},
   "outputs": [],
   "source": []
  }
 ],
 "metadata": {
  "kernelspec": {
   "display_name": "Python 3",
   "language": "python",
   "name": "python3"
  },
  "language_info": {
   "codemirror_mode": {
    "name": "ipython",
    "version": 3
   },
   "file_extension": ".py",
   "mimetype": "text/x-python",
   "name": "python",
   "nbconvert_exporter": "python",
   "pygments_lexer": "ipython3",
   "version": "3.7.6"
  }
 },
 "nbformat": 4,
 "nbformat_minor": 4
}
