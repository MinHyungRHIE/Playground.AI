{
 "cells": [
  {
   "cell_type": "markdown",
   "metadata": {},
   "source": [
    "# 인공지능\n",
    "\n",
    "- Data : 모델에 들어가기전 다듬는게 필요 = 전처리\n",
    "- Model : 학습 모델\n",
    "- Prediction/Logit : 정답 예측\n",
    "- Loss/Cost : 정답과 비교하여 얼마나 틀렸는지 계산 function\n",
    "- Optimization : 최적화, 오답 최소화, 아깝게 틀린 것도 계산 \n",
    "- Result"
   ]
  },
  {
   "cell_type": "markdown",
   "metadata": {},
   "source": [
    "# 용어 정리\n",
    "1. Model\n",
    "2. Layer\n",
    "  - Input Layer -- Hidden Layers -- Output Layer\n",
    "  - Layer층이 많고 깊을 수록(딥러닝) 무조건 좋은건 아님\n",
    "3. Convolution\n",
    "  - 합성곱\n",
    "  - Input image -- Convolution Kernel(행렬) -- Feature amp\n",
    "4. Weight / Filter / Kernel / Variable / Bias\n",
    "  - W : 학습하려고 하는 대상\n",
    "5. Pooling Layer\n",
    "  - 사이즈 줄여주기, 큰 특징을 뽑아 압축하는 Layer층\n",
    "6. Optimization\n",
    "7. Activation Function\n",
    "8. Softmax\n",
    "  - 모든 값들의 합을 1로 만듬\n",
    "  - 앞의 값들을 확률로 만들어줌\n",
    "9. Loss Function(Cost Function)\n",
    "  - 얼마나 틀렸는지 계산하는 것\n",
    "  - 그 결과를 Cost || Loss\n",
    "10. Learning Rate\n",
    "  - Hyper Parameter : 인간이 학습시킬때 조절해주는, 그 중 하나가 Learning Rate\n",
    "11. Batch Size\n",
    "  - 모든 모델을 한번에 넣어 줄 수 없음\n",
    "  - MNIST의 6만장을 한번에는 불가, 나눠서 얼마나 넘겨줄 것이냐\n",
    "12. Epoch / Step\n",
    "  - 여러번 봐야함 Epoch만큼 몇십만번 \n",
    "13. Train / Validation / Test\n",
    "  - Data Set -- ( Train Set-학습, Test Set-평가 )\n",
    "14. Label / Ground Truth\n",
    "  - 데이터에 대한 정답"
   ]
  },
  {
   "cell_type": "markdown",
   "metadata": {},
   "source": [
    "# CNN 구조\n",
    " - Feature Extraction / Classification --> 특징을 추출하고(FE) 예측하여 결정을 내린다(C)\n",
    " - 특징은 패턴이다.\n",
    " - 1. Convolution Layer 특징 뽑기\n",
    " - 2. Pooling Layer (Max Pooling) 큰 특징을 다시 압축\n",
    " - 3. Activation Function(ReLU) 0 미만인 불필요한 특징 제거\n",
    " - 1,2,3 반복\n",
    " - 마지막에 Fully connected로 계산해서 예측한다.\n",
    " \n",
    " - LeNet, AlexNet, VGG16, ResNet, DenseNet도 비슷한 과정\n",
    "\n"
   ]
  },
  {
   "cell_type": "code",
   "execution_count": null,
   "metadata": {},
   "outputs": [],
   "source": []
  },
  {
   "cell_type": "markdown",
   "metadata": {},
   "source": []
  }
 ],
 "metadata": {
  "kernelspec": {
   "display_name": "Python 3",
   "language": "python",
   "name": "python3"
  },
  "language_info": {
   "codemirror_mode": {
    "name": "ipython",
    "version": 3
   },
   "file_extension": ".py",
   "mimetype": "text/x-python",
   "name": "python",
   "nbconvert_exporter": "python",
   "pygments_lexer": "ipython3",
   "version": "3.7.6"
  }
 },
 "nbformat": 4,
 "nbformat_minor": 4
}
