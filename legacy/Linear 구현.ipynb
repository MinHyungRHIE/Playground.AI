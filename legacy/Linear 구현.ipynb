{
 "cells": [
  {
   "cell_type": "code",
   "execution_count": 11,
   "metadata": {},
   "outputs": [
    {
     "name": "stdout",
     "output_type": "stream",
     "text": [
      "[[3.]]\n",
      "[2.]\n",
      "[[152.]]\n"
     ]
    }
   ],
   "source": [
    "import numpy as np\n",
    "\n",
    "# 입력값과 정답값\n",
    "x_data = np.array([1, 2, 3, 4, 5]).reshape(5, 1)\n",
    "t_data = np.array([5, 8, 11, 14, 17]).reshape(5, 1)\n",
    "\n",
    "\n",
    "# W, b의 초기값 생성 H(x)\n",
    "W = np.random.rand(1,1)\n",
    "b = np.random.rand(1)\n",
    "\n",
    "# 손실함수 구현\n",
    "def loss_func(x, t):\n",
    "    y = np.dot(x, W) + b\n",
    "    return (np.sum(((t - y) ** 2))) / (len(x))\n",
    "\n",
    "\n",
    "# 수치미분 함수\n",
    "def numericalDerivative(f, x):\n",
    "    deltaX = 1e-4\n",
    "    coefficient = np.zeros_like(x)\n",
    "    it = np.nditer(x, flags=['multi_index'], op_flags=['readwrite'])\n",
    "\n",
    "    while not it.finished:\n",
    "        idx = it.multi_index\n",
    "        tmp_val = x[idx]\n",
    "\n",
    "        x[idx] = float(tmp_val) + deltaX\n",
    "        fx1 = f(x)\n",
    "\n",
    "        x[idx] = tmp_val - deltaX\n",
    "        fx2 = f(x)\n",
    "\n",
    "        coefficient[idx] = (fx1 - fx2) / (2*deltaX)\n",
    "\n",
    "        x[idx] = tmp_val\n",
    "        it.iternext()\n",
    "\n",
    "    return coefficient\n",
    "\n",
    "\n",
    "# 학습을 마친 후, 예측하기\n",
    "def pred(x):\n",
    "    y = np.dot(x, W)+b\n",
    "    return y\n",
    "\n",
    "\n",
    "# 학습시키기\n",
    "Epoch = 100000  # 반복할 학습 횟수\n",
    "learning_rate = 1e-2  # 학습률 지정 : 1e-2, 1e-3, 1e-4, 1e-5, 1e-6 많이 사용\n",
    "\n",
    "\n",
    "f = lambda x : loss_func(x_data, t_data)  # 정답값과 얼마나 떨어졌는지 확인\n",
    "\n",
    "\n",
    "for i in range(Epoch):\n",
    "    # 수치미분을 통한 W, b값 갱신\n",
    "    W -= learning_rate * numericalDerivative(f, W)\n",
    "    b -= learning_rate * numericalDerivative(f, b)\n",
    "\n",
    "print(W)\n",
    "print(b)\n",
    "print(pred(50))\n"
   ]
  }
 ],
 "metadata": {
  "kernelspec": {
   "display_name": "Python 3",
   "language": "python",
   "name": "python3"
  },
  "language_info": {
   "codemirror_mode": {
    "name": "ipython",
    "version": 3
   },
   "file_extension": ".py",
   "mimetype": "text/x-python",
   "name": "python",
   "nbconvert_exporter": "python",
   "pygments_lexer": "ipython3",
   "version": "3.7.6"
  }
 },
 "nbformat": 4,
 "nbformat_minor": 4
}
