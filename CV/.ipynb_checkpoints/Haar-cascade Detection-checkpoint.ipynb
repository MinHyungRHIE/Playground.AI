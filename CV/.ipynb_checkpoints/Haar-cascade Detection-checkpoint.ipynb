{
 "cells": [
  {
   "cell_type": "markdown",
   "metadata": {},
   "source": [
    "## Object Detection\n",
    "\n",
    " - Haar-cascade Object Detection\n",
    "   - Rapid Object Detection using a Boosted Cascade of Simple Feature\n",
    "   - 2001\n",
    "   - 빠르지만 정확도가 CNN보다 떨어진다\n",
    "   - Haar 방식은 정해진 방식에 따라 인식\n",
    "     - 반면 CNN은 학습"
   ]
  },
  {
   "cell_type": "code",
   "execution_count": 3,
   "metadata": {},
   "outputs": [
    {
     "name": "stdout",
     "output_type": "stream",
     "text": [
      "4.2.0\n"
     ]
    }
   ],
   "source": [
    "import cv2\n",
    "import numpy as np\n",
    "\n",
    "print(cv2.__version__)"
   ]
  },
  {
   "cell_type": "code",
   "execution_count": 5,
   "metadata": {},
   "outputs": [
    {
     "name": "stdout",
     "output_type": "stream",
     "text": [
      "width: 550 pixels\n",
      "height: 707 pixels\n",
      "channel: 3\n"
     ]
    }
   ],
   "source": [
    "img = cv2.imread(\"man.jpg\")\n",
    "print(\"width: {} pixels\".format(img.shape[1]))\n",
    "print(\"height: {} pixels\".format(img.shape[0]))\n",
    "print(\"channel: {}\".format(img.shape[2]))"
   ]
  },
  {
   "cell_type": "code",
   "execution_count": null,
   "metadata": {},
   "outputs": [],
   "source": [
    "(height, width) = image.shape[:2]\n",
    "\n",
    "cv2.imshow(\"Original Image\", img)\n",
    "\n",
    "face_cascade_name = 'opencv/data/haarcascades/haarcascade_frontalface_alt.xml'\n",
    "eyes_cascade_name = 'opencv/data/harrcascades/haarcascade_eye_tree_eyeglasses.xml'\n",
    "\n",
    "face_cascade = cv2.CascadeClassifier()\n",
    "eyes_cascade = cv2.CascadeClassifier()\n",
    "\n"
   ]
  }
 ],
 "metadata": {
  "kernelspec": {
   "display_name": "Python 3",
   "language": "python",
   "name": "python3"
  },
  "language_info": {
   "codemirror_mode": {
    "name": "ipython",
    "version": 3
   },
   "file_extension": ".py",
   "mimetype": "text/x-python",
   "name": "python",
   "nbconvert_exporter": "python",
   "pygments_lexer": "ipython3",
   "version": "3.7.6"
  }
 },
 "nbformat": 4,
 "nbformat_minor": 4
}
